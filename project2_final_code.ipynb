{
 "cells": [
  {
   "cell_type": "code",
   "execution_count": 1,
   "id": "56d1e6a6",
   "metadata": {
    "_cell_guid": "b1076dfc-b9ad-4769-8c92-a6c4dae69d19",
    "_uuid": "8f2839f25d086af736a60e9eeb907d3b93b6e0e5",
    "execution": {
     "iopub.execute_input": "2025-02-15T07:58:59.308833Z",
     "iopub.status.busy": "2025-02-15T07:58:59.308515Z",
     "iopub.status.idle": "2025-02-15T07:59:00.018756Z",
     "shell.execute_reply": "2025-02-15T07:59:00.017772Z"
    },
    "papermill": {
     "duration": 0.721985,
     "end_time": "2025-02-15T07:59:00.020053",
     "exception": false,
     "start_time": "2025-02-15T07:58:59.298068",
     "status": "completed"
    },
    "tags": []
   },
   "outputs": [
    {
     "name": "stdout",
     "output_type": "stream",
     "text": [
      "/kaggle/input/proj2-only-pubds/city_day.csv\n"
     ]
    }
   ],
   "source": [
    "# This Python 3 environment comes with many helpful analytics libraries installed\n",
    "# It is defined by the kaggle/python Docker image: https://github.com/kaggle/docker-python\n",
    "# For example, here's several helpful packages to load\n",
    "\n",
    "import numpy as np # linear algebra\n",
    "import pandas as pd # data processing, CSV file I/O (e.g. pd.read_csv)\n",
    "\n",
    "# Input data files are available in the read-only \"../input/\" directory\n",
    "# For example, running this (by clicking run or pressing Shift+Enter) will list all files under the input directory\n",
    "\n",
    "import os\n",
    "for dirname, _, filenames in os.walk('/kaggle/input'):\n",
    "    for filename in filenames:\n",
    "        print(os.path.join(dirname, filename))\n",
    "\n",
    "# You can write up to 20GB to the current directory (/kaggle/working/) that gets preserved as output when you create a version using \"Save & Run All\" \n",
    "# You can also write temporary files to /kaggle/temp/, but they won't be saved outside of the current session"
   ]
  },
  {
   "cell_type": "markdown",
   "id": "2ed1202f",
   "metadata": {
    "papermill": {
     "duration": 0.008469,
     "end_time": "2025-02-15T07:59:00.037619",
     "exception": false,
     "start_time": "2025-02-15T07:59:00.029150",
     "status": "completed"
    },
    "tags": []
   },
   "source": [
    "# importing libraries"
   ]
  },
  {
   "cell_type": "code",
   "execution_count": 2,
   "id": "90fb3461",
   "metadata": {
    "execution": {
     "iopub.execute_input": "2025-02-15T07:59:00.055452Z",
     "iopub.status.busy": "2025-02-15T07:59:00.055104Z",
     "iopub.status.idle": "2025-02-15T07:59:00.059317Z",
     "shell.execute_reply": "2025-02-15T07:59:00.058492Z"
    },
    "papermill": {
     "duration": 0.014452,
     "end_time": "2025-02-15T07:59:00.060549",
     "exception": false,
     "start_time": "2025-02-15T07:59:00.046097",
     "status": "completed"
    },
    "tags": []
   },
   "outputs": [],
   "source": [
    "import matplotlib.pyplot as plt\n",
    "%matplotlib inline"
   ]
  },
  {
   "cell_type": "code",
   "execution_count": 3,
   "id": "65b150f5",
   "metadata": {
    "execution": {
     "iopub.execute_input": "2025-02-15T07:59:00.079029Z",
     "iopub.status.busy": "2025-02-15T07:59:00.078788Z",
     "iopub.status.idle": "2025-02-15T07:59:01.517834Z",
     "shell.execute_reply": "2025-02-15T07:59:01.516942Z"
    },
    "papermill": {
     "duration": 1.449886,
     "end_time": "2025-02-15T07:59:01.519431",
     "exception": false,
     "start_time": "2025-02-15T07:59:00.069545",
     "status": "completed"
    },
    "tags": []
   },
   "outputs": [],
   "source": [
    "import seaborn as sns\n",
    "from sklearn.metrics import r2_score, mean_absolute_error, mean_squared_error"
   ]
  },
  {
   "cell_type": "markdown",
   "id": "8eed179a",
   "metadata": {
    "papermill": {
     "duration": 0.008762,
     "end_time": "2025-02-15T07:59:01.537638",
     "exception": false,
     "start_time": "2025-02-15T07:59:01.528876",
     "status": "completed"
    },
    "tags": []
   },
   "source": [
    "# Loading the dataset"
   ]
  },
  {
   "cell_type": "code",
   "execution_count": 4,
   "id": "b58db181",
   "metadata": {
    "execution": {
     "iopub.execute_input": "2025-02-15T07:59:01.555839Z",
     "iopub.status.busy": "2025-02-15T07:59:01.555437Z",
     "iopub.status.idle": "2025-02-15T07:59:01.650463Z",
     "shell.execute_reply": "2025-02-15T07:59:01.649738Z"
    },
    "papermill": {
     "duration": 0.105706,
     "end_time": "2025-02-15T07:59:01.651988",
     "exception": false,
     "start_time": "2025-02-15T07:59:01.546282",
     "status": "completed"
    },
    "tags": []
   },
   "outputs": [],
   "source": [
    "ds = pd.read_csv(\"/kaggle/input/proj2-only-pubds/city_day.csv\")"
   ]
  },
  {
   "cell_type": "markdown",
   "id": "f4a1a8cc",
   "metadata": {
    "papermill": {
     "duration": 0.008509,
     "end_time": "2025-02-15T07:59:01.669485",
     "exception": false,
     "start_time": "2025-02-15T07:59:01.660976",
     "status": "completed"
    },
    "tags": []
   },
   "source": [
    "# dataset insights"
   ]
  },
  {
   "cell_type": "markdown",
   "id": "eb06496b",
   "metadata": {
    "papermill": {
     "duration": 0.008303,
     "end_time": "2025-02-15T07:59:01.686286",
     "exception": false,
     "start_time": "2025-02-15T07:59:01.677983",
     "status": "completed"
    },
    "tags": []
   },
   "source": [
    "## how big is the dataset?"
   ]
  },
  {
   "cell_type": "code",
   "execution_count": 5,
   "id": "09415b6b",
   "metadata": {
    "execution": {
     "iopub.execute_input": "2025-02-15T07:59:01.703993Z",
     "iopub.status.busy": "2025-02-15T07:59:01.703704Z",
     "iopub.status.idle": "2025-02-15T07:59:01.710087Z",
     "shell.execute_reply": "2025-02-15T07:59:01.709298Z"
    },
    "papermill": {
     "duration": 0.016567,
     "end_time": "2025-02-15T07:59:01.711262",
     "exception": false,
     "start_time": "2025-02-15T07:59:01.694695",
     "status": "completed"
    },
    "tags": []
   },
   "outputs": [
    {
     "data": {
      "text/plain": [
       "472496"
      ]
     },
     "execution_count": 5,
     "metadata": {},
     "output_type": "execute_result"
    }
   ],
   "source": [
    "ds.size"
   ]
  },
  {
   "cell_type": "markdown",
   "id": "9f257463",
   "metadata": {
    "papermill": {
     "duration": 0.008417,
     "end_time": "2025-02-15T07:59:01.728369",
     "exception": false,
     "start_time": "2025-02-15T07:59:01.719952",
     "status": "completed"
    },
    "tags": []
   },
   "source": [
    "## What does the data look like ?"
   ]
  },
  {
   "cell_type": "code",
   "execution_count": 6,
   "id": "5ea6961e",
   "metadata": {
    "execution": {
     "iopub.execute_input": "2025-02-15T07:59:01.746245Z",
     "iopub.status.busy": "2025-02-15T07:59:01.746012Z",
     "iopub.status.idle": "2025-02-15T07:59:01.774929Z",
     "shell.execute_reply": "2025-02-15T07:59:01.774168Z"
    },
    "papermill": {
     "duration": 0.039319,
     "end_time": "2025-02-15T07:59:01.776258",
     "exception": false,
     "start_time": "2025-02-15T07:59:01.736939",
     "status": "completed"
    },
    "tags": []
   },
   "outputs": [
    {
     "name": "stderr",
     "output_type": "stream",
     "text": [
      "/usr/local/lib/python3.10/dist-packages/pandas/io/formats/format.py:1458: RuntimeWarning: invalid value encountered in greater\n",
      "  has_large_values = (abs_vals > 1e6).any()\n",
      "/usr/local/lib/python3.10/dist-packages/pandas/io/formats/format.py:1459: RuntimeWarning: invalid value encountered in less\n",
      "  has_small_values = ((abs_vals < 10 ** (-self.digits)) & (abs_vals > 0)).any()\n",
      "/usr/local/lib/python3.10/dist-packages/pandas/io/formats/format.py:1459: RuntimeWarning: invalid value encountered in greater\n",
      "  has_small_values = ((abs_vals < 10 ** (-self.digits)) & (abs_vals > 0)).any()\n"
     ]
    },
    {
     "data": {
      "text/html": [
       "<div>\n",
       "<style scoped>\n",
       "    .dataframe tbody tr th:only-of-type {\n",
       "        vertical-align: middle;\n",
       "    }\n",
       "\n",
       "    .dataframe tbody tr th {\n",
       "        vertical-align: top;\n",
       "    }\n",
       "\n",
       "    .dataframe thead th {\n",
       "        text-align: right;\n",
       "    }\n",
       "</style>\n",
       "<table border=\"1\" class=\"dataframe\">\n",
       "  <thead>\n",
       "    <tr style=\"text-align: right;\">\n",
       "      <th></th>\n",
       "      <th>City</th>\n",
       "      <th>Date</th>\n",
       "      <th>PM2.5</th>\n",
       "      <th>PM10</th>\n",
       "      <th>NO</th>\n",
       "      <th>NO2</th>\n",
       "      <th>NOx</th>\n",
       "      <th>NH3</th>\n",
       "      <th>CO</th>\n",
       "      <th>SO2</th>\n",
       "      <th>O3</th>\n",
       "      <th>Benzene</th>\n",
       "      <th>Toluene</th>\n",
       "      <th>Xylene</th>\n",
       "      <th>AQI</th>\n",
       "      <th>AQI_Bucket</th>\n",
       "    </tr>\n",
       "  </thead>\n",
       "  <tbody>\n",
       "    <tr>\n",
       "      <th>0</th>\n",
       "      <td>Ahmedabad</td>\n",
       "      <td>2015-01-01</td>\n",
       "      <td>NaN</td>\n",
       "      <td>NaN</td>\n",
       "      <td>0.92</td>\n",
       "      <td>18.22</td>\n",
       "      <td>17.15</td>\n",
       "      <td>NaN</td>\n",
       "      <td>0.92</td>\n",
       "      <td>27.64</td>\n",
       "      <td>133.36</td>\n",
       "      <td>0.00</td>\n",
       "      <td>0.02</td>\n",
       "      <td>0.00</td>\n",
       "      <td>NaN</td>\n",
       "      <td>NaN</td>\n",
       "    </tr>\n",
       "    <tr>\n",
       "      <th>1</th>\n",
       "      <td>Ahmedabad</td>\n",
       "      <td>2015-01-02</td>\n",
       "      <td>NaN</td>\n",
       "      <td>NaN</td>\n",
       "      <td>0.97</td>\n",
       "      <td>15.69</td>\n",
       "      <td>16.46</td>\n",
       "      <td>NaN</td>\n",
       "      <td>0.97</td>\n",
       "      <td>24.55</td>\n",
       "      <td>34.06</td>\n",
       "      <td>3.68</td>\n",
       "      <td>5.50</td>\n",
       "      <td>3.77</td>\n",
       "      <td>NaN</td>\n",
       "      <td>NaN</td>\n",
       "    </tr>\n",
       "    <tr>\n",
       "      <th>2</th>\n",
       "      <td>Ahmedabad</td>\n",
       "      <td>2015-01-03</td>\n",
       "      <td>NaN</td>\n",
       "      <td>NaN</td>\n",
       "      <td>17.40</td>\n",
       "      <td>19.30</td>\n",
       "      <td>29.70</td>\n",
       "      <td>NaN</td>\n",
       "      <td>17.40</td>\n",
       "      <td>29.07</td>\n",
       "      <td>30.70</td>\n",
       "      <td>6.80</td>\n",
       "      <td>16.40</td>\n",
       "      <td>2.25</td>\n",
       "      <td>NaN</td>\n",
       "      <td>NaN</td>\n",
       "    </tr>\n",
       "    <tr>\n",
       "      <th>3</th>\n",
       "      <td>Ahmedabad</td>\n",
       "      <td>2015-01-04</td>\n",
       "      <td>NaN</td>\n",
       "      <td>NaN</td>\n",
       "      <td>1.70</td>\n",
       "      <td>18.48</td>\n",
       "      <td>17.97</td>\n",
       "      <td>NaN</td>\n",
       "      <td>1.70</td>\n",
       "      <td>18.59</td>\n",
       "      <td>36.08</td>\n",
       "      <td>4.43</td>\n",
       "      <td>10.14</td>\n",
       "      <td>1.00</td>\n",
       "      <td>NaN</td>\n",
       "      <td>NaN</td>\n",
       "    </tr>\n",
       "    <tr>\n",
       "      <th>4</th>\n",
       "      <td>Ahmedabad</td>\n",
       "      <td>2015-01-05</td>\n",
       "      <td>NaN</td>\n",
       "      <td>NaN</td>\n",
       "      <td>22.10</td>\n",
       "      <td>21.42</td>\n",
       "      <td>37.76</td>\n",
       "      <td>NaN</td>\n",
       "      <td>22.10</td>\n",
       "      <td>39.33</td>\n",
       "      <td>39.31</td>\n",
       "      <td>7.01</td>\n",
       "      <td>18.89</td>\n",
       "      <td>2.78</td>\n",
       "      <td>NaN</td>\n",
       "      <td>NaN</td>\n",
       "    </tr>\n",
       "  </tbody>\n",
       "</table>\n",
       "</div>"
      ],
      "text/plain": [
       "        City        Date  PM2.5  PM10     NO    NO2    NOx  NH3     CO    SO2  \\\n",
       "0  Ahmedabad  2015-01-01    NaN   NaN   0.92  18.22  17.15  NaN   0.92  27.64   \n",
       "1  Ahmedabad  2015-01-02    NaN   NaN   0.97  15.69  16.46  NaN   0.97  24.55   \n",
       "2  Ahmedabad  2015-01-03    NaN   NaN  17.40  19.30  29.70  NaN  17.40  29.07   \n",
       "3  Ahmedabad  2015-01-04    NaN   NaN   1.70  18.48  17.97  NaN   1.70  18.59   \n",
       "4  Ahmedabad  2015-01-05    NaN   NaN  22.10  21.42  37.76  NaN  22.10  39.33   \n",
       "\n",
       "       O3  Benzene  Toluene  Xylene  AQI AQI_Bucket  \n",
       "0  133.36     0.00     0.02    0.00  NaN        NaN  \n",
       "1   34.06     3.68     5.50    3.77  NaN        NaN  \n",
       "2   30.70     6.80    16.40    2.25  NaN        NaN  \n",
       "3   36.08     4.43    10.14    1.00  NaN        NaN  \n",
       "4   39.31     7.01    18.89    2.78  NaN        NaN  "
      ]
     },
     "execution_count": 6,
     "metadata": {},
     "output_type": "execute_result"
    }
   ],
   "source": [
    "ds.head()"
   ]
  },
  {
   "cell_type": "markdown",
   "id": "dc9bf275",
   "metadata": {
    "papermill": {
     "duration": 0.009119,
     "end_time": "2025-02-15T07:59:01.794521",
     "exception": false,
     "start_time": "2025-02-15T07:59:01.785402",
     "status": "completed"
    },
    "tags": []
   },
   "source": [
    "## what is the data type of columns ?"
   ]
  },
  {
   "cell_type": "code",
   "execution_count": 7,
   "id": "9ae5a3f6",
   "metadata": {
    "execution": {
     "iopub.execute_input": "2025-02-15T07:59:01.812859Z",
     "iopub.status.busy": "2025-02-15T07:59:01.812615Z",
     "iopub.status.idle": "2025-02-15T07:59:01.839515Z",
     "shell.execute_reply": "2025-02-15T07:59:01.838707Z"
    },
    "papermill": {
     "duration": 0.03745,
     "end_time": "2025-02-15T07:59:01.840766",
     "exception": false,
     "start_time": "2025-02-15T07:59:01.803316",
     "status": "completed"
    },
    "tags": []
   },
   "outputs": [
    {
     "name": "stdout",
     "output_type": "stream",
     "text": [
      "<class 'pandas.core.frame.DataFrame'>\n",
      "RangeIndex: 29531 entries, 0 to 29530\n",
      "Data columns (total 16 columns):\n",
      " #   Column      Non-Null Count  Dtype  \n",
      "---  ------      --------------  -----  \n",
      " 0   City        29531 non-null  object \n",
      " 1   Date        29531 non-null  object \n",
      " 2   PM2.5       24933 non-null  float64\n",
      " 3   PM10        18391 non-null  float64\n",
      " 4   NO          25949 non-null  float64\n",
      " 5   NO2         25946 non-null  float64\n",
      " 6   NOx         25346 non-null  float64\n",
      " 7   NH3         19203 non-null  float64\n",
      " 8   CO          27472 non-null  float64\n",
      " 9   SO2         25677 non-null  float64\n",
      " 10  O3          25509 non-null  float64\n",
      " 11  Benzene     23908 non-null  float64\n",
      " 12  Toluene     21490 non-null  float64\n",
      " 13  Xylene      11422 non-null  float64\n",
      " 14  AQI         24850 non-null  float64\n",
      " 15  AQI_Bucket  24850 non-null  object \n",
      "dtypes: float64(13), object(3)\n",
      "memory usage: 3.6+ MB\n"
     ]
    }
   ],
   "source": [
    "ds.info()"
   ]
  },
  {
   "cell_type": "markdown",
   "id": "2e0cc791",
   "metadata": {
    "papermill": {
     "duration": 0.008588,
     "end_time": "2025-02-15T07:59:01.858470",
     "exception": false,
     "start_time": "2025-02-15T07:59:01.849882",
     "status": "completed"
    },
    "tags": []
   },
   "source": [
    "## Are there any null values?"
   ]
  },
  {
   "cell_type": "code",
   "execution_count": 8,
   "id": "760cd7e0",
   "metadata": {
    "execution": {
     "iopub.execute_input": "2025-02-15T07:59:01.877029Z",
     "iopub.status.busy": "2025-02-15T07:59:01.876729Z",
     "iopub.status.idle": "2025-02-15T07:59:01.889231Z",
     "shell.execute_reply": "2025-02-15T07:59:01.888526Z"
    },
    "papermill": {
     "duration": 0.0232,
     "end_time": "2025-02-15T07:59:01.890450",
     "exception": false,
     "start_time": "2025-02-15T07:59:01.867250",
     "status": "completed"
    },
    "tags": []
   },
   "outputs": [
    {
     "data": {
      "text/plain": [
       "City              0\n",
       "Date              0\n",
       "PM2.5          4598\n",
       "PM10          11140\n",
       "NO             3582\n",
       "NO2            3585\n",
       "NOx            4185\n",
       "NH3           10328\n",
       "CO             2059\n",
       "SO2            3854\n",
       "O3             4022\n",
       "Benzene        5623\n",
       "Toluene        8041\n",
       "Xylene        18109\n",
       "AQI            4681\n",
       "AQI_Bucket     4681\n",
       "dtype: int64"
      ]
     },
     "execution_count": 8,
     "metadata": {},
     "output_type": "execute_result"
    }
   ],
   "source": [
    "ds.isnull().sum()"
   ]
  },
  {
   "cell_type": "code",
   "execution_count": 9,
   "id": "b30bd9aa",
   "metadata": {
    "execution": {
     "iopub.execute_input": "2025-02-15T07:59:01.909020Z",
     "iopub.status.busy": "2025-02-15T07:59:01.908781Z",
     "iopub.status.idle": "2025-02-15T07:59:01.915395Z",
     "shell.execute_reply": "2025-02-15T07:59:01.914788Z"
    },
    "papermill": {
     "duration": 0.017224,
     "end_time": "2025-02-15T07:59:01.916621",
     "exception": false,
     "start_time": "2025-02-15T07:59:01.899397",
     "status": "completed"
    },
    "tags": []
   },
   "outputs": [],
   "source": [
    "df = ds.drop(columns=['City','Date','NO','NOx','NH3','Benzene','Toluene','Xylene','AQI_Bucket'],axis=1)"
   ]
  },
  {
   "cell_type": "code",
   "execution_count": 10,
   "id": "e4c038ea",
   "metadata": {
    "execution": {
     "iopub.execute_input": "2025-02-15T07:59:01.935349Z",
     "iopub.status.busy": "2025-02-15T07:59:01.935121Z",
     "iopub.status.idle": "2025-02-15T07:59:01.947576Z",
     "shell.execute_reply": "2025-02-15T07:59:01.946866Z"
    },
    "papermill": {
     "duration": 0.023115,
     "end_time": "2025-02-15T07:59:01.948851",
     "exception": false,
     "start_time": "2025-02-15T07:59:01.925736",
     "status": "completed"
    },
    "tags": []
   },
   "outputs": [
    {
     "name": "stderr",
     "output_type": "stream",
     "text": [
      "/usr/local/lib/python3.10/dist-packages/pandas/io/formats/format.py:1458: RuntimeWarning: invalid value encountered in greater\n",
      "  has_large_values = (abs_vals > 1e6).any()\n",
      "/usr/local/lib/python3.10/dist-packages/pandas/io/formats/format.py:1459: RuntimeWarning: invalid value encountered in less\n",
      "  has_small_values = ((abs_vals < 10 ** (-self.digits)) & (abs_vals > 0)).any()\n",
      "/usr/local/lib/python3.10/dist-packages/pandas/io/formats/format.py:1459: RuntimeWarning: invalid value encountered in greater\n",
      "  has_small_values = ((abs_vals < 10 ** (-self.digits)) & (abs_vals > 0)).any()\n"
     ]
    },
    {
     "data": {
      "text/html": [
       "<div>\n",
       "<style scoped>\n",
       "    .dataframe tbody tr th:only-of-type {\n",
       "        vertical-align: middle;\n",
       "    }\n",
       "\n",
       "    .dataframe tbody tr th {\n",
       "        vertical-align: top;\n",
       "    }\n",
       "\n",
       "    .dataframe thead th {\n",
       "        text-align: right;\n",
       "    }\n",
       "</style>\n",
       "<table border=\"1\" class=\"dataframe\">\n",
       "  <thead>\n",
       "    <tr style=\"text-align: right;\">\n",
       "      <th></th>\n",
       "      <th>PM2.5</th>\n",
       "      <th>PM10</th>\n",
       "      <th>NO2</th>\n",
       "      <th>CO</th>\n",
       "      <th>SO2</th>\n",
       "      <th>O3</th>\n",
       "      <th>AQI</th>\n",
       "    </tr>\n",
       "  </thead>\n",
       "  <tbody>\n",
       "    <tr>\n",
       "      <th>15166</th>\n",
       "      <td>7.81</td>\n",
       "      <td>26.51</td>\n",
       "      <td>9.11</td>\n",
       "      <td>0.44</td>\n",
       "      <td>6.20</td>\n",
       "      <td>9.13</td>\n",
       "      <td>63.0</td>\n",
       "    </tr>\n",
       "    <tr>\n",
       "      <th>21810</th>\n",
       "      <td>68.13</td>\n",
       "      <td>NaN</td>\n",
       "      <td>22.77</td>\n",
       "      <td>0.83</td>\n",
       "      <td>7.35</td>\n",
       "      <td>26.95</td>\n",
       "      <td>151.0</td>\n",
       "    </tr>\n",
       "    <tr>\n",
       "      <th>4254</th>\n",
       "      <td>54.78</td>\n",
       "      <td>96.64</td>\n",
       "      <td>12.80</td>\n",
       "      <td>0.48</td>\n",
       "      <td>18.35</td>\n",
       "      <td>17.00</td>\n",
       "      <td>106.0</td>\n",
       "    </tr>\n",
       "    <tr>\n",
       "      <th>12990</th>\n",
       "      <td>821.42</td>\n",
       "      <td>NaN</td>\n",
       "      <td>10.24</td>\n",
       "      <td>0.49</td>\n",
       "      <td>3.67</td>\n",
       "      <td>12.89</td>\n",
       "      <td>529.0</td>\n",
       "    </tr>\n",
       "    <tr>\n",
       "      <th>5004</th>\n",
       "      <td>24.98</td>\n",
       "      <td>138.06</td>\n",
       "      <td>42.15</td>\n",
       "      <td>1.76</td>\n",
       "      <td>8.15</td>\n",
       "      <td>8.43</td>\n",
       "      <td>132.0</td>\n",
       "    </tr>\n",
       "    <tr>\n",
       "      <th>3007</th>\n",
       "      <td>16.45</td>\n",
       "      <td>32.26</td>\n",
       "      <td>5.66</td>\n",
       "      <td>0.00</td>\n",
       "      <td>NaN</td>\n",
       "      <td>36.76</td>\n",
       "      <td>52.0</td>\n",
       "    </tr>\n",
       "  </tbody>\n",
       "</table>\n",
       "</div>"
      ],
      "text/plain": [
       "        PM2.5    PM10    NO2    CO    SO2     O3    AQI\n",
       "15166    7.81   26.51   9.11  0.44   6.20   9.13   63.0\n",
       "21810   68.13     NaN  22.77  0.83   7.35  26.95  151.0\n",
       "4254    54.78   96.64  12.80  0.48  18.35  17.00  106.0\n",
       "12990  821.42     NaN  10.24  0.49   3.67  12.89  529.0\n",
       "5004    24.98  138.06  42.15  1.76   8.15   8.43  132.0\n",
       "3007    16.45   32.26   5.66  0.00    NaN  36.76   52.0"
      ]
     },
     "execution_count": 10,
     "metadata": {},
     "output_type": "execute_result"
    }
   ],
   "source": [
    "df.sample(6)"
   ]
  },
  {
   "cell_type": "code",
   "execution_count": 11,
   "id": "80b9ed4e",
   "metadata": {
    "execution": {
     "iopub.execute_input": "2025-02-15T07:59:01.968238Z",
     "iopub.status.busy": "2025-02-15T07:59:01.968025Z",
     "iopub.status.idle": "2025-02-15T07:59:01.976258Z",
     "shell.execute_reply": "2025-02-15T07:59:01.975533Z"
    },
    "papermill": {
     "duration": 0.019362,
     "end_time": "2025-02-15T07:59:01.977450",
     "exception": false,
     "start_time": "2025-02-15T07:59:01.958088",
     "status": "completed"
    },
    "tags": []
   },
   "outputs": [
    {
     "name": "stdout",
     "output_type": "stream",
     "text": [
      "<class 'pandas.core.frame.DataFrame'>\n",
      "RangeIndex: 29531 entries, 0 to 29530\n",
      "Data columns (total 7 columns):\n",
      " #   Column  Non-Null Count  Dtype  \n",
      "---  ------  --------------  -----  \n",
      " 0   PM2.5   24933 non-null  float64\n",
      " 1   PM10    18391 non-null  float64\n",
      " 2   NO2     25946 non-null  float64\n",
      " 3   CO      27472 non-null  float64\n",
      " 4   SO2     25677 non-null  float64\n",
      " 5   O3      25509 non-null  float64\n",
      " 6   AQI     24850 non-null  float64\n",
      "dtypes: float64(7)\n",
      "memory usage: 1.6 MB\n"
     ]
    }
   ],
   "source": [
    "df.info()"
   ]
  },
  {
   "cell_type": "code",
   "execution_count": 12,
   "id": "5b1940ef",
   "metadata": {
    "execution": {
     "iopub.execute_input": "2025-02-15T07:59:01.997240Z",
     "iopub.status.busy": "2025-02-15T07:59:01.997031Z",
     "iopub.status.idle": "2025-02-15T07:59:02.002182Z",
     "shell.execute_reply": "2025-02-15T07:59:02.001551Z"
    },
    "papermill": {
     "duration": 0.016408,
     "end_time": "2025-02-15T07:59:02.003390",
     "exception": false,
     "start_time": "2025-02-15T07:59:01.986982",
     "status": "completed"
    },
    "tags": []
   },
   "outputs": [
    {
     "data": {
      "text/plain": [
       "PM2.5     4598\n",
       "PM10     11140\n",
       "NO2       3585\n",
       "CO        2059\n",
       "SO2       3854\n",
       "O3        4022\n",
       "AQI       4681\n",
       "dtype: int64"
      ]
     },
     "execution_count": 12,
     "metadata": {},
     "output_type": "execute_result"
    }
   ],
   "source": [
    "df.isnull().sum()"
   ]
  },
  {
   "cell_type": "code",
   "execution_count": 13,
   "id": "93d9c4a2",
   "metadata": {
    "execution": {
     "iopub.execute_input": "2025-02-15T07:59:02.022627Z",
     "iopub.status.busy": "2025-02-15T07:59:02.022430Z",
     "iopub.status.idle": "2025-02-15T07:59:02.026610Z",
     "shell.execute_reply": "2025-02-15T07:59:02.026053Z"
    },
    "papermill": {
     "duration": 0.015104,
     "end_time": "2025-02-15T07:59:02.027806",
     "exception": false,
     "start_time": "2025-02-15T07:59:02.012702",
     "status": "completed"
    },
    "tags": []
   },
   "outputs": [],
   "source": [
    "df.dropna(inplace=True)"
   ]
  },
  {
   "cell_type": "code",
   "execution_count": 14,
   "id": "094326b1",
   "metadata": {
    "execution": {
     "iopub.execute_input": "2025-02-15T07:59:02.047180Z",
     "iopub.status.busy": "2025-02-15T07:59:02.046970Z",
     "iopub.status.idle": "2025-02-15T07:59:02.054957Z",
     "shell.execute_reply": "2025-02-15T07:59:02.054330Z"
    },
    "papermill": {
     "duration": 0.01893,
     "end_time": "2025-02-15T07:59:02.056127",
     "exception": false,
     "start_time": "2025-02-15T07:59:02.037197",
     "status": "completed"
    },
    "tags": []
   },
   "outputs": [
    {
     "data": {
      "text/plain": [
       "0"
      ]
     },
     "execution_count": 14,
     "metadata": {},
     "output_type": "execute_result"
    }
   ],
   "source": [
    "df.duplicated().sum()"
   ]
  },
  {
   "cell_type": "code",
   "execution_count": 15,
   "id": "e63d9b48",
   "metadata": {
    "execution": {
     "iopub.execute_input": "2025-02-15T07:59:02.075508Z",
     "iopub.status.busy": "2025-02-15T07:59:02.075308Z",
     "iopub.status.idle": "2025-02-15T07:59:02.082181Z",
     "shell.execute_reply": "2025-02-15T07:59:02.081452Z"
    },
    "papermill": {
     "duration": 0.017832,
     "end_time": "2025-02-15T07:59:02.083353",
     "exception": false,
     "start_time": "2025-02-15T07:59:02.065521",
     "status": "completed"
    },
    "tags": []
   },
   "outputs": [
    {
     "name": "stdout",
     "output_type": "stream",
     "text": [
      "<class 'pandas.core.frame.DataFrame'>\n",
      "Index: 16010 entries, 1595 to 29530\n",
      "Data columns (total 7 columns):\n",
      " #   Column  Non-Null Count  Dtype  \n",
      "---  ------  --------------  -----  \n",
      " 0   PM2.5   16010 non-null  float64\n",
      " 1   PM10    16010 non-null  float64\n",
      " 2   NO2     16010 non-null  float64\n",
      " 3   CO      16010 non-null  float64\n",
      " 4   SO2     16010 non-null  float64\n",
      " 5   O3      16010 non-null  float64\n",
      " 6   AQI     16010 non-null  float64\n",
      "dtypes: float64(7)\n",
      "memory usage: 1000.6 KB\n"
     ]
    }
   ],
   "source": [
    "df.info()"
   ]
  },
  {
   "cell_type": "code",
   "execution_count": 16,
   "id": "a886d4a3",
   "metadata": {
    "execution": {
     "iopub.execute_input": "2025-02-15T07:59:02.103169Z",
     "iopub.status.busy": "2025-02-15T07:59:02.102952Z",
     "iopub.status.idle": "2025-02-15T07:59:02.112383Z",
     "shell.execute_reply": "2025-02-15T07:59:02.111768Z"
    },
    "papermill": {
     "duration": 0.020641,
     "end_time": "2025-02-15T07:59:02.113544",
     "exception": false,
     "start_time": "2025-02-15T07:59:02.092903",
     "status": "completed"
    },
    "tags": []
   },
   "outputs": [
    {
     "data": {
      "text/html": [
       "<div>\n",
       "<style scoped>\n",
       "    .dataframe tbody tr th:only-of-type {\n",
       "        vertical-align: middle;\n",
       "    }\n",
       "\n",
       "    .dataframe tbody tr th {\n",
       "        vertical-align: top;\n",
       "    }\n",
       "\n",
       "    .dataframe thead th {\n",
       "        text-align: right;\n",
       "    }\n",
       "</style>\n",
       "<table border=\"1\" class=\"dataframe\">\n",
       "  <thead>\n",
       "    <tr style=\"text-align: right;\">\n",
       "      <th></th>\n",
       "      <th>PM2.5</th>\n",
       "      <th>PM10</th>\n",
       "      <th>NO2</th>\n",
       "      <th>CO</th>\n",
       "      <th>SO2</th>\n",
       "      <th>O3</th>\n",
       "      <th>AQI</th>\n",
       "    </tr>\n",
       "  </thead>\n",
       "  <tbody>\n",
       "    <tr>\n",
       "      <th>1595</th>\n",
       "      <td>37.55</td>\n",
       "      <td>122.41</td>\n",
       "      <td>85.12</td>\n",
       "      <td>15.08</td>\n",
       "      <td>163.01</td>\n",
       "      <td>48.23</td>\n",
       "      <td>281.0</td>\n",
       "    </tr>\n",
       "    <tr>\n",
       "      <th>1596</th>\n",
       "      <td>33.97</td>\n",
       "      <td>116.32</td>\n",
       "      <td>79.71</td>\n",
       "      <td>14.67</td>\n",
       "      <td>91.26</td>\n",
       "      <td>51.86</td>\n",
       "      <td>330.0</td>\n",
       "    </tr>\n",
       "    <tr>\n",
       "      <th>1597</th>\n",
       "      <td>35.48</td>\n",
       "      <td>130.07</td>\n",
       "      <td>77.61</td>\n",
       "      <td>18.02</td>\n",
       "      <td>98.35</td>\n",
       "      <td>38.99</td>\n",
       "      <td>356.0</td>\n",
       "    </tr>\n",
       "    <tr>\n",
       "      <th>1598</th>\n",
       "      <td>34.11</td>\n",
       "      <td>138.31</td>\n",
       "      <td>75.23</td>\n",
       "      <td>13.27</td>\n",
       "      <td>88.66</td>\n",
       "      <td>42.22</td>\n",
       "      <td>359.0</td>\n",
       "    </tr>\n",
       "    <tr>\n",
       "      <th>1599</th>\n",
       "      <td>33.69</td>\n",
       "      <td>111.73</td>\n",
       "      <td>68.90</td>\n",
       "      <td>34.56</td>\n",
       "      <td>80.90</td>\n",
       "      <td>36.95</td>\n",
       "      <td>547.0</td>\n",
       "    </tr>\n",
       "  </tbody>\n",
       "</table>\n",
       "</div>"
      ],
      "text/plain": [
       "      PM2.5    PM10    NO2     CO     SO2     O3    AQI\n",
       "1595  37.55  122.41  85.12  15.08  163.01  48.23  281.0\n",
       "1596  33.97  116.32  79.71  14.67   91.26  51.86  330.0\n",
       "1597  35.48  130.07  77.61  18.02   98.35  38.99  356.0\n",
       "1598  34.11  138.31  75.23  13.27   88.66  42.22  359.0\n",
       "1599  33.69  111.73  68.90  34.56   80.90  36.95  547.0"
      ]
     },
     "execution_count": 16,
     "metadata": {},
     "output_type": "execute_result"
    }
   ],
   "source": [
    "df.head()"
   ]
  },
  {
   "cell_type": "code",
   "execution_count": 17,
   "id": "6dea2636",
   "metadata": {
    "execution": {
     "iopub.execute_input": "2025-02-15T07:59:02.133987Z",
     "iopub.status.busy": "2025-02-15T07:59:02.133680Z",
     "iopub.status.idle": "2025-02-15T07:59:02.137655Z",
     "shell.execute_reply": "2025-02-15T07:59:02.137005Z"
    },
    "papermill": {
     "duration": 0.015376,
     "end_time": "2025-02-15T07:59:02.138786",
     "exception": false,
     "start_time": "2025-02-15T07:59:02.123410",
     "status": "completed"
    },
    "tags": []
   },
   "outputs": [],
   "source": [
    "df.reset_index(inplace=True)"
   ]
  },
  {
   "cell_type": "code",
   "execution_count": 18,
   "id": "a86ebb87",
   "metadata": {
    "execution": {
     "iopub.execute_input": "2025-02-15T07:59:02.159018Z",
     "iopub.status.busy": "2025-02-15T07:59:02.158809Z",
     "iopub.status.idle": "2025-02-15T07:59:02.168652Z",
     "shell.execute_reply": "2025-02-15T07:59:02.168001Z"
    },
    "papermill": {
     "duration": 0.021406,
     "end_time": "2025-02-15T07:59:02.169911",
     "exception": false,
     "start_time": "2025-02-15T07:59:02.148505",
     "status": "completed"
    },
    "tags": []
   },
   "outputs": [
    {
     "data": {
      "text/html": [
       "<div>\n",
       "<style scoped>\n",
       "    .dataframe tbody tr th:only-of-type {\n",
       "        vertical-align: middle;\n",
       "    }\n",
       "\n",
       "    .dataframe tbody tr th {\n",
       "        vertical-align: top;\n",
       "    }\n",
       "\n",
       "    .dataframe thead th {\n",
       "        text-align: right;\n",
       "    }\n",
       "</style>\n",
       "<table border=\"1\" class=\"dataframe\">\n",
       "  <thead>\n",
       "    <tr style=\"text-align: right;\">\n",
       "      <th></th>\n",
       "      <th>index</th>\n",
       "      <th>PM2.5</th>\n",
       "      <th>PM10</th>\n",
       "      <th>NO2</th>\n",
       "      <th>CO</th>\n",
       "      <th>SO2</th>\n",
       "      <th>O3</th>\n",
       "      <th>AQI</th>\n",
       "    </tr>\n",
       "  </thead>\n",
       "  <tbody>\n",
       "    <tr>\n",
       "      <th>0</th>\n",
       "      <td>1595</td>\n",
       "      <td>37.55</td>\n",
       "      <td>122.41</td>\n",
       "      <td>85.12</td>\n",
       "      <td>15.08</td>\n",
       "      <td>163.01</td>\n",
       "      <td>48.23</td>\n",
       "      <td>281.0</td>\n",
       "    </tr>\n",
       "    <tr>\n",
       "      <th>1</th>\n",
       "      <td>1596</td>\n",
       "      <td>33.97</td>\n",
       "      <td>116.32</td>\n",
       "      <td>79.71</td>\n",
       "      <td>14.67</td>\n",
       "      <td>91.26</td>\n",
       "      <td>51.86</td>\n",
       "      <td>330.0</td>\n",
       "    </tr>\n",
       "    <tr>\n",
       "      <th>2</th>\n",
       "      <td>1597</td>\n",
       "      <td>35.48</td>\n",
       "      <td>130.07</td>\n",
       "      <td>77.61</td>\n",
       "      <td>18.02</td>\n",
       "      <td>98.35</td>\n",
       "      <td>38.99</td>\n",
       "      <td>356.0</td>\n",
       "    </tr>\n",
       "    <tr>\n",
       "      <th>3</th>\n",
       "      <td>1598</td>\n",
       "      <td>34.11</td>\n",
       "      <td>138.31</td>\n",
       "      <td>75.23</td>\n",
       "      <td>13.27</td>\n",
       "      <td>88.66</td>\n",
       "      <td>42.22</td>\n",
       "      <td>359.0</td>\n",
       "    </tr>\n",
       "    <tr>\n",
       "      <th>4</th>\n",
       "      <td>1599</td>\n",
       "      <td>33.69</td>\n",
       "      <td>111.73</td>\n",
       "      <td>68.90</td>\n",
       "      <td>34.56</td>\n",
       "      <td>80.90</td>\n",
       "      <td>36.95</td>\n",
       "      <td>547.0</td>\n",
       "    </tr>\n",
       "  </tbody>\n",
       "</table>\n",
       "</div>"
      ],
      "text/plain": [
       "   index  PM2.5    PM10    NO2     CO     SO2     O3    AQI\n",
       "0   1595  37.55  122.41  85.12  15.08  163.01  48.23  281.0\n",
       "1   1596  33.97  116.32  79.71  14.67   91.26  51.86  330.0\n",
       "2   1597  35.48  130.07  77.61  18.02   98.35  38.99  356.0\n",
       "3   1598  34.11  138.31  75.23  13.27   88.66  42.22  359.0\n",
       "4   1599  33.69  111.73  68.90  34.56   80.90  36.95  547.0"
      ]
     },
     "execution_count": 18,
     "metadata": {},
     "output_type": "execute_result"
    }
   ],
   "source": [
    "df.head()"
   ]
  },
  {
   "cell_type": "code",
   "execution_count": 19,
   "id": "03c92259",
   "metadata": {
    "execution": {
     "iopub.execute_input": "2025-02-15T07:59:02.190230Z",
     "iopub.status.busy": "2025-02-15T07:59:02.190023Z",
     "iopub.status.idle": "2025-02-15T07:59:02.193549Z",
     "shell.execute_reply": "2025-02-15T07:59:02.192930Z"
    },
    "papermill": {
     "duration": 0.014841,
     "end_time": "2025-02-15T07:59:02.194633",
     "exception": false,
     "start_time": "2025-02-15T07:59:02.179792",
     "status": "completed"
    },
    "tags": []
   },
   "outputs": [],
   "source": [
    "df.drop(\"index\",axis=1,inplace=True)"
   ]
  },
  {
   "cell_type": "markdown",
   "id": "21992d3d",
   "metadata": {
    "papermill": {
     "duration": 0.009537,
     "end_time": "2025-02-15T07:59:02.213952",
     "exception": false,
     "start_time": "2025-02-15T07:59:02.204415",
     "status": "completed"
    },
    "tags": []
   },
   "source": [
    "# updated dataset after preprocessing"
   ]
  },
  {
   "cell_type": "code",
   "execution_count": 20,
   "id": "6554de6b",
   "metadata": {
    "execution": {
     "iopub.execute_input": "2025-02-15T07:59:02.234224Z",
     "iopub.status.busy": "2025-02-15T07:59:02.233997Z",
     "iopub.status.idle": "2025-02-15T07:59:02.244341Z",
     "shell.execute_reply": "2025-02-15T07:59:02.243663Z"
    },
    "papermill": {
     "duration": 0.021858,
     "end_time": "2025-02-15T07:59:02.245470",
     "exception": false,
     "start_time": "2025-02-15T07:59:02.223612",
     "status": "completed"
    },
    "tags": []
   },
   "outputs": [
    {
     "data": {
      "text/html": [
       "<div>\n",
       "<style scoped>\n",
       "    .dataframe tbody tr th:only-of-type {\n",
       "        vertical-align: middle;\n",
       "    }\n",
       "\n",
       "    .dataframe tbody tr th {\n",
       "        vertical-align: top;\n",
       "    }\n",
       "\n",
       "    .dataframe thead th {\n",
       "        text-align: right;\n",
       "    }\n",
       "</style>\n",
       "<table border=\"1\" class=\"dataframe\">\n",
       "  <thead>\n",
       "    <tr style=\"text-align: right;\">\n",
       "      <th></th>\n",
       "      <th>PM2.5</th>\n",
       "      <th>PM10</th>\n",
       "      <th>NO2</th>\n",
       "      <th>CO</th>\n",
       "      <th>SO2</th>\n",
       "      <th>O3</th>\n",
       "      <th>AQI</th>\n",
       "    </tr>\n",
       "  </thead>\n",
       "  <tbody>\n",
       "    <tr>\n",
       "      <th>0</th>\n",
       "      <td>37.55</td>\n",
       "      <td>122.41</td>\n",
       "      <td>85.12</td>\n",
       "      <td>15.08</td>\n",
       "      <td>163.01</td>\n",
       "      <td>48.23</td>\n",
       "      <td>281.0</td>\n",
       "    </tr>\n",
       "    <tr>\n",
       "      <th>1</th>\n",
       "      <td>33.97</td>\n",
       "      <td>116.32</td>\n",
       "      <td>79.71</td>\n",
       "      <td>14.67</td>\n",
       "      <td>91.26</td>\n",
       "      <td>51.86</td>\n",
       "      <td>330.0</td>\n",
       "    </tr>\n",
       "    <tr>\n",
       "      <th>2</th>\n",
       "      <td>35.48</td>\n",
       "      <td>130.07</td>\n",
       "      <td>77.61</td>\n",
       "      <td>18.02</td>\n",
       "      <td>98.35</td>\n",
       "      <td>38.99</td>\n",
       "      <td>356.0</td>\n",
       "    </tr>\n",
       "    <tr>\n",
       "      <th>3</th>\n",
       "      <td>34.11</td>\n",
       "      <td>138.31</td>\n",
       "      <td>75.23</td>\n",
       "      <td>13.27</td>\n",
       "      <td>88.66</td>\n",
       "      <td>42.22</td>\n",
       "      <td>359.0</td>\n",
       "    </tr>\n",
       "    <tr>\n",
       "      <th>4</th>\n",
       "      <td>33.69</td>\n",
       "      <td>111.73</td>\n",
       "      <td>68.90</td>\n",
       "      <td>34.56</td>\n",
       "      <td>80.90</td>\n",
       "      <td>36.95</td>\n",
       "      <td>547.0</td>\n",
       "    </tr>\n",
       "  </tbody>\n",
       "</table>\n",
       "</div>"
      ],
      "text/plain": [
       "   PM2.5    PM10    NO2     CO     SO2     O3    AQI\n",
       "0  37.55  122.41  85.12  15.08  163.01  48.23  281.0\n",
       "1  33.97  116.32  79.71  14.67   91.26  51.86  330.0\n",
       "2  35.48  130.07  77.61  18.02   98.35  38.99  356.0\n",
       "3  34.11  138.31  75.23  13.27   88.66  42.22  359.0\n",
       "4  33.69  111.73  68.90  34.56   80.90  36.95  547.0"
      ]
     },
     "execution_count": 20,
     "metadata": {},
     "output_type": "execute_result"
    }
   ],
   "source": [
    "df.head()"
   ]
  },
  {
   "cell_type": "code",
   "execution_count": 21,
   "id": "3e1086a3",
   "metadata": {
    "execution": {
     "iopub.execute_input": "2025-02-15T07:59:02.266939Z",
     "iopub.status.busy": "2025-02-15T07:59:02.266692Z",
     "iopub.status.idle": "2025-02-15T07:59:02.273976Z",
     "shell.execute_reply": "2025-02-15T07:59:02.273247Z"
    },
    "papermill": {
     "duration": 0.018739,
     "end_time": "2025-02-15T07:59:02.275098",
     "exception": false,
     "start_time": "2025-02-15T07:59:02.256359",
     "status": "completed"
    },
    "tags": []
   },
   "outputs": [
    {
     "name": "stdout",
     "output_type": "stream",
     "text": [
      "<class 'pandas.core.frame.DataFrame'>\n",
      "RangeIndex: 16010 entries, 0 to 16009\n",
      "Data columns (total 7 columns):\n",
      " #   Column  Non-Null Count  Dtype  \n",
      "---  ------  --------------  -----  \n",
      " 0   PM2.5   16010 non-null  float64\n",
      " 1   PM10    16010 non-null  float64\n",
      " 2   NO2     16010 non-null  float64\n",
      " 3   CO      16010 non-null  float64\n",
      " 4   SO2     16010 non-null  float64\n",
      " 5   O3      16010 non-null  float64\n",
      " 6   AQI     16010 non-null  float64\n",
      "dtypes: float64(7)\n",
      "memory usage: 875.7 KB\n"
     ]
    }
   ],
   "source": [
    "df.info()"
   ]
  },
  {
   "cell_type": "markdown",
   "id": "6557432d",
   "metadata": {
    "papermill": {
     "duration": 0.009789,
     "end_time": "2025-02-15T07:59:02.294932",
     "exception": false,
     "start_time": "2025-02-15T07:59:02.285143",
     "status": "completed"
    },
    "tags": []
   },
   "source": [
    "## How does the data look mathematically ?"
   ]
  },
  {
   "cell_type": "code",
   "execution_count": 22,
   "id": "e71ddf08",
   "metadata": {
    "execution": {
     "iopub.execute_input": "2025-02-15T07:59:02.315523Z",
     "iopub.status.busy": "2025-02-15T07:59:02.315283Z",
     "iopub.status.idle": "2025-02-15T07:59:02.339948Z",
     "shell.execute_reply": "2025-02-15T07:59:02.339078Z"
    },
    "papermill": {
     "duration": 0.036293,
     "end_time": "2025-02-15T07:59:02.341121",
     "exception": false,
     "start_time": "2025-02-15T07:59:02.304828",
     "status": "completed"
    },
    "tags": []
   },
   "outputs": [
    {
     "data": {
      "text/html": [
       "<div>\n",
       "<style scoped>\n",
       "    .dataframe tbody tr th:only-of-type {\n",
       "        vertical-align: middle;\n",
       "    }\n",
       "\n",
       "    .dataframe tbody tr th {\n",
       "        vertical-align: top;\n",
       "    }\n",
       "\n",
       "    .dataframe thead th {\n",
       "        text-align: right;\n",
       "    }\n",
       "</style>\n",
       "<table border=\"1\" class=\"dataframe\">\n",
       "  <thead>\n",
       "    <tr style=\"text-align: right;\">\n",
       "      <th></th>\n",
       "      <th>PM2.5</th>\n",
       "      <th>PM10</th>\n",
       "      <th>NO2</th>\n",
       "      <th>CO</th>\n",
       "      <th>SO2</th>\n",
       "      <th>O3</th>\n",
       "      <th>AQI</th>\n",
       "    </tr>\n",
       "  </thead>\n",
       "  <tbody>\n",
       "    <tr>\n",
       "      <th>count</th>\n",
       "      <td>16010.000000</td>\n",
       "      <td>16010.000000</td>\n",
       "      <td>16010.000000</td>\n",
       "      <td>16010.000000</td>\n",
       "      <td>16010.000000</td>\n",
       "      <td>16010.000000</td>\n",
       "      <td>16010.000000</td>\n",
       "    </tr>\n",
       "    <tr>\n",
       "      <th>mean</th>\n",
       "      <td>57.342885</td>\n",
       "      <td>117.697931</td>\n",
       "      <td>29.112615</td>\n",
       "      <td>1.434911</td>\n",
       "      <td>12.785969</td>\n",
       "      <td>35.132273</td>\n",
       "      <td>141.355715</td>\n",
       "    </tr>\n",
       "    <tr>\n",
       "      <th>std</th>\n",
       "      <td>52.096518</td>\n",
       "      <td>88.484088</td>\n",
       "      <td>22.830288</td>\n",
       "      <td>3.548884</td>\n",
       "      <td>13.496148</td>\n",
       "      <td>21.525602</td>\n",
       "      <td>104.325680</td>\n",
       "    </tr>\n",
       "    <tr>\n",
       "      <th>min</th>\n",
       "      <td>0.160000</td>\n",
       "      <td>0.180000</td>\n",
       "      <td>0.010000</td>\n",
       "      <td>0.000000</td>\n",
       "      <td>0.010000</td>\n",
       "      <td>0.010000</td>\n",
       "      <td>14.000000</td>\n",
       "    </tr>\n",
       "    <tr>\n",
       "      <th>25%</th>\n",
       "      <td>25.040000</td>\n",
       "      <td>56.620000</td>\n",
       "      <td>12.450000</td>\n",
       "      <td>0.560000</td>\n",
       "      <td>6.120000</td>\n",
       "      <td>19.680000</td>\n",
       "      <td>74.000000</td>\n",
       "    </tr>\n",
       "    <tr>\n",
       "      <th>50%</th>\n",
       "      <td>42.910000</td>\n",
       "      <td>95.625000</td>\n",
       "      <td>24.105000</td>\n",
       "      <td>0.840000</td>\n",
       "      <td>9.710000</td>\n",
       "      <td>31.965000</td>\n",
       "      <td>107.000000</td>\n",
       "    </tr>\n",
       "    <tr>\n",
       "      <th>75%</th>\n",
       "      <td>69.800000</td>\n",
       "      <td>148.697500</td>\n",
       "      <td>39.370000</td>\n",
       "      <td>1.247500</td>\n",
       "      <td>14.677500</td>\n",
       "      <td>46.200000</td>\n",
       "      <td>167.000000</td>\n",
       "    </tr>\n",
       "    <tr>\n",
       "      <th>max</th>\n",
       "      <td>868.660000</td>\n",
       "      <td>847.410000</td>\n",
       "      <td>277.310000</td>\n",
       "      <td>92.960000</td>\n",
       "      <td>186.080000</td>\n",
       "      <td>257.730000</td>\n",
       "      <td>1389.000000</td>\n",
       "    </tr>\n",
       "  </tbody>\n",
       "</table>\n",
       "</div>"
      ],
      "text/plain": [
       "              PM2.5          PM10           NO2            CO           SO2  \\\n",
       "count  16010.000000  16010.000000  16010.000000  16010.000000  16010.000000   \n",
       "mean      57.342885    117.697931     29.112615      1.434911     12.785969   \n",
       "std       52.096518     88.484088     22.830288      3.548884     13.496148   \n",
       "min        0.160000      0.180000      0.010000      0.000000      0.010000   \n",
       "25%       25.040000     56.620000     12.450000      0.560000      6.120000   \n",
       "50%       42.910000     95.625000     24.105000      0.840000      9.710000   \n",
       "75%       69.800000    148.697500     39.370000      1.247500     14.677500   \n",
       "max      868.660000    847.410000    277.310000     92.960000    186.080000   \n",
       "\n",
       "                 O3           AQI  \n",
       "count  16010.000000  16010.000000  \n",
       "mean      35.132273    141.355715  \n",
       "std       21.525602    104.325680  \n",
       "min        0.010000     14.000000  \n",
       "25%       19.680000     74.000000  \n",
       "50%       31.965000    107.000000  \n",
       "75%       46.200000    167.000000  \n",
       "max      257.730000   1389.000000  "
      ]
     },
     "execution_count": 22,
     "metadata": {},
     "output_type": "execute_result"
    }
   ],
   "source": [
    "df.describe()"
   ]
  },
  {
   "cell_type": "markdown",
   "id": "879bd6ce",
   "metadata": {
    "papermill": {
     "duration": 0.009891,
     "end_time": "2025-02-15T07:59:02.361251",
     "exception": false,
     "start_time": "2025-02-15T07:59:02.351360",
     "status": "completed"
    },
    "tags": []
   },
   "source": [
    "## correlation of columns with the target variable¶\n"
   ]
  },
  {
   "cell_type": "code",
   "execution_count": 23,
   "id": "5c5d8cc1",
   "metadata": {
    "execution": {
     "iopub.execute_input": "2025-02-15T07:59:02.382945Z",
     "iopub.status.busy": "2025-02-15T07:59:02.382660Z",
     "iopub.status.idle": "2025-02-15T07:59:02.391443Z",
     "shell.execute_reply": "2025-02-15T07:59:02.390629Z"
    },
    "papermill": {
     "duration": 0.020497,
     "end_time": "2025-02-15T07:59:02.392635",
     "exception": false,
     "start_time": "2025-02-15T07:59:02.372138",
     "status": "completed"
    },
    "tags": []
   },
   "outputs": [
    {
     "data": {
      "text/plain": [
       "PM2.5    0.789445\n",
       "PM10     0.807309\n",
       "NO2      0.611989\n",
       "CO       0.546648\n",
       "SO2      0.461186\n",
       "O3       0.297086\n",
       "AQI      1.000000\n",
       "Name: AQI, dtype: float64"
      ]
     },
     "execution_count": 23,
     "metadata": {},
     "output_type": "execute_result"
    }
   ],
   "source": [
    "df.corr()['AQI']"
   ]
  },
  {
   "cell_type": "markdown",
   "id": "6d8ee4cc",
   "metadata": {
    "papermill": {
     "duration": 0.013113,
     "end_time": "2025-02-15T07:59:02.416187",
     "exception": false,
     "start_time": "2025-02-15T07:59:02.403074",
     "status": "completed"
    },
    "tags": []
   },
   "source": [
    "# Visualizations"
   ]
  },
  {
   "cell_type": "markdown",
   "id": "7186e50e",
   "metadata": {
    "papermill": {
     "duration": 0.057774,
     "end_time": "2025-02-15T07:59:02.489390",
     "exception": false,
     "start_time": "2025-02-15T07:59:02.431616",
     "status": "completed"
    },
    "tags": []
   },
   "source": [
    "## Correlation plot"
   ]
  },
  {
   "cell_type": "code",
   "execution_count": 24,
   "id": "c188a485",
   "metadata": {
    "execution": {
     "iopub.execute_input": "2025-02-15T07:59:02.515206Z",
     "iopub.status.busy": "2025-02-15T07:59:02.514868Z",
     "iopub.status.idle": "2025-02-15T07:59:02.809561Z",
     "shell.execute_reply": "2025-02-15T07:59:02.808696Z"
    },
    "papermill": {
     "duration": 0.308987,
     "end_time": "2025-02-15T07:59:02.810887",
     "exception": false,
     "start_time": "2025-02-15T07:59:02.501900",
     "status": "completed"
    },
    "tags": []
   },
   "outputs": [
    {
     "data": {
      "text/plain": [
       "<Axes: >"
      ]
     },
     "execution_count": 24,
     "metadata": {},
     "output_type": "execute_result"
    },
    {
     "data": {
      "image/png": "[encoded data removed]",
      "text/plain": [
       "<Figure size 640x480 with 2 Axes>"
      ]
     },
     "metadata": {},
     "output_type": "display_data"
    }
   ],
   "source": [
    "sns.heatmap(df.corr())"
   ]
  },
  {
   "cell_type": "markdown",
   "id": "040d4434",
   "metadata": {
    "papermill": {
     "duration": 0.010601,
     "end_time": "2025-02-15T07:59:02.832457",
     "exception": false,
     "start_time": "2025-02-15T07:59:02.821856",
     "status": "completed"
    },
    "tags": []
   },
   "source": [
    "# scatterplot\n",
    "\n",
    "\n",
    "### AQI (target variable) against PM10 (highest corelated variable against the target variable)"
   ]
  },
  {
   "cell_type": "code",
   "execution_count": 25,
   "id": "6522932d",
   "metadata": {
    "execution": {
     "iopub.execute_input": "2025-02-15T07:59:02.855821Z",
     "iopub.status.busy": "2025-02-15T07:59:02.855411Z",
     "iopub.status.idle": "2025-02-15T07:59:03.134814Z",
     "shell.execute_reply": "2025-02-15T07:59:03.133981Z"
    },
    "papermill": {
     "duration": 0.292954,
     "end_time": "2025-02-15T07:59:03.136110",
     "exception": false,
     "start_time": "2025-02-15T07:59:02.843156",
     "status": "completed"
    },
    "tags": []
   },
   "outputs": [
    {
     "data": {
      "text/plain": [
       "<Axes: xlabel='PM10', ylabel='AQI'>"
      ]
     },
     "execution_count": 25,
     "metadata": {},
     "output_type": "execute_result"
    },
    {
     "data": {
      "image/png": "[encoded data removed]",
      "text/plain": [
       "<Figure size 640x480 with 1 Axes>"
      ]
     },
     "metadata": {},
     "output_type": "display_data"
    }
   ],
   "source": [
    "sns.scatterplot(x=df['PM10'], y=df['AQI'])\n"
   ]
  },
  {
   "cell_type": "markdown",
   "id": "4153862f",
   "metadata": {
    "papermill": {
     "duration": 0.012542,
     "end_time": "2025-02-15T07:59:03.166442",
     "exception": false,
     "start_time": "2025-02-15T07:59:03.153900",
     "status": "completed"
    },
    "tags": []
   },
   "source": [
    "# Distplot\n",
    "\n",
    "### distribution of PM2.5 over the dataset¶\n"
   ]
  },
  {
   "cell_type": "code",
   "execution_count": 26,
   "id": "9978e2d5",
   "metadata": {
    "execution": {
     "iopub.execute_input": "2025-02-15T07:59:03.194200Z",
     "iopub.status.busy": "2025-02-15T07:59:03.193902Z",
     "iopub.status.idle": "2025-02-15T07:59:03.516103Z",
     "shell.execute_reply": "2025-02-15T07:59:03.515271Z"
    },
    "papermill": {
     "duration": 0.336471,
     "end_time": "2025-02-15T07:59:03.517423",
     "exception": false,
     "start_time": "2025-02-15T07:59:03.180952",
     "status": "completed"
    },
    "tags": []
   },
   "outputs": [
    {
     "name": "stderr",
     "output_type": "stream",
     "text": [
      "<ipython-input-26-b823a508c274>:1: UserWarning: \n",
      "\n",
      "`distplot` is a deprecated function and will be removed in seaborn v0.14.0.\n",
      "\n",
      "Please adapt your code to use either `displot` (a figure-level function with\n",
      "similar flexibility) or `histplot` (an axes-level function for histograms).\n",
      "\n",
      "For a guide to updating your code to use the new functions, please see\n",
      "https://gist.github.com/mwaskom/de44147ed2974457ad6372750bbe5751\n",
      "\n",
      "  sns.distplot(df['PM2.5'])\n",
      "/usr/local/lib/python3.10/dist-packages/seaborn/_oldcore.py:1119: FutureWarning: use_inf_as_na option is deprecated and will be removed in a future version. Convert inf values to NaN before operating instead.\n",
      "  with pd.option_context('mode.use_inf_as_na', True):\n"
     ]
    },
    {
     "data": {
      "text/plain": [
       "<Axes: xlabel='PM2.5', ylabel='Density'>"
      ]
     },
     "execution_count": 26,
     "metadata": {},
     "output_type": "execute_result"
    },
    {
     "data": {
      "image/png": "[encoded data removed]",
      "text/plain": [
       "<Figure size 640x480 with 1 Axes>"
      ]
     },
     "metadata": {},
     "output_type": "display_data"
    }
   ],
   "source": [
    "sns.distplot(df['PM2.5'])\n"
   ]
  },
  {
   "cell_type": "markdown",
   "id": "4b771a16",
   "metadata": {
    "papermill": {
     "duration": 0.012249,
     "end_time": "2025-02-15T07:59:03.542937",
     "exception": false,
     "start_time": "2025-02-15T07:59:03.530688",
     "status": "completed"
    },
    "tags": []
   },
   "source": [
    "# importing libraries for model training"
   ]
  },
  {
   "cell_type": "code",
   "execution_count": 27,
   "id": "75e5dc8c",
   "metadata": {
    "execution": {
     "iopub.execute_input": "2025-02-15T07:59:03.568441Z",
     "iopub.status.busy": "2025-02-15T07:59:03.568169Z",
     "iopub.status.idle": "2025-02-15T07:59:15.323594Z",
     "shell.execute_reply": "2025-02-15T07:59:15.322898Z"
    },
    "papermill": {
     "duration": 11.770017,
     "end_time": "2025-02-15T07:59:15.325257",
     "exception": false,
     "start_time": "2025-02-15T07:59:03.555240",
     "status": "completed"
    },
    "tags": []
   },
   "outputs": [],
   "source": [
    "import pandas as pd\n",
    "import numpy as np\n",
    "from sklearn.ensemble import RandomForestRegressor\n",
    "from xgboost import XGBRegressor\n",
    "from tensorflow.keras.models import Sequential\n",
    "from tensorflow.keras.layers import Dense\n",
    "from sklearn.model_selection import train_test_split\n",
    "from sklearn.linear_model import LinearRegression\n",
    "from sklearn.metrics import mean_absolute_error, mean_squared_error, r2_score\n",
    "from sklearn.model_selection import GridSearchCV"
   ]
  },
  {
   "cell_type": "markdown",
   "id": "f8657b8b",
   "metadata": {
    "papermill": {
     "duration": 0.012349,
     "end_time": "2025-02-15T07:59:15.350769",
     "exception": false,
     "start_time": "2025-02-15T07:59:15.338420",
     "status": "completed"
    },
    "tags": []
   },
   "source": [
    "# Defining features and target"
   ]
  },
  {
   "cell_type": "code",
   "execution_count": 28,
   "id": "d20f5185",
   "metadata": {
    "execution": {
     "iopub.execute_input": "2025-02-15T07:59:15.376747Z",
     "iopub.status.busy": "2025-02-15T07:59:15.376214Z",
     "iopub.status.idle": "2025-02-15T07:59:15.380948Z",
     "shell.execute_reply": "2025-02-15T07:59:15.380097Z"
    },
    "papermill": {
     "duration": 0.019029,
     "end_time": "2025-02-15T07:59:15.382190",
     "exception": false,
     "start_time": "2025-02-15T07:59:15.363161",
     "status": "completed"
    },
    "tags": []
   },
   "outputs": [],
   "source": [
    "\n",
    "X = df[['PM2.5', 'PM10', 'NO2', 'CO', 'SO2', 'O3']]\n",
    "y = df['AQI']"
   ]
  },
  {
   "cell_type": "markdown",
   "id": "b9c898ca",
   "metadata": {
    "papermill": {
     "duration": 0.012282,
     "end_time": "2025-02-15T07:59:15.406863",
     "exception": false,
     "start_time": "2025-02-15T07:59:15.394581",
     "status": "completed"
    },
    "tags": []
   },
   "source": [
    "# Split data into train and test sets"
   ]
  },
  {
   "cell_type": "code",
   "execution_count": 29,
   "id": "878e799e",
   "metadata": {
    "execution": {
     "iopub.execute_input": "2025-02-15T07:59:15.432653Z",
     "iopub.status.busy": "2025-02-15T07:59:15.432372Z",
     "iopub.status.idle": "2025-02-15T07:59:15.438365Z",
     "shell.execute_reply": "2025-02-15T07:59:15.437736Z"
    },
    "papermill": {
     "duration": 0.020242,
     "end_time": "2025-02-15T07:59:15.439475",
     "exception": false,
     "start_time": "2025-02-15T07:59:15.419233",
     "status": "completed"
    },
    "tags": []
   },
   "outputs": [],
   "source": [
    "\n",
    "X_train, X_test, y_train, y_test = train_test_split(X, y, test_size=0.2, random_state=42)"
   ]
  },
  {
   "cell_type": "markdown",
   "id": "955d8427",
   "metadata": {
    "papermill": {
     "duration": 0.012211,
     "end_time": "2025-02-15T07:59:15.464101",
     "exception": false,
     "start_time": "2025-02-15T07:59:15.451890",
     "status": "completed"
    },
    "tags": []
   },
   "source": [
    "#  Further split train data into train and validation sets for meta-model training"
   ]
  },
  {
   "cell_type": "code",
   "execution_count": 30,
   "id": "4f311f17",
   "metadata": {
    "execution": {
     "iopub.execute_input": "2025-02-15T07:59:15.489658Z",
     "iopub.status.busy": "2025-02-15T07:59:15.489451Z",
     "iopub.status.idle": "2025-02-15T07:59:15.494594Z",
     "shell.execute_reply": "2025-02-15T07:59:15.493791Z"
    },
    "papermill": {
     "duration": 0.01923,
     "end_time": "2025-02-15T07:59:15.495780",
     "exception": false,
     "start_time": "2025-02-15T07:59:15.476550",
     "status": "completed"
    },
    "tags": []
   },
   "outputs": [],
   "source": [
    "X_train_fed, X_val, y_train_fed, y_val = train_test_split(X_train, y_train, test_size=0.2, random_state=42)"
   ]
  },
  {
   "cell_type": "markdown",
   "id": "0097e9a1",
   "metadata": {
    "papermill": {
     "duration": 0.012108,
     "end_time": "2025-02-15T07:59:15.520294",
     "exception": false,
     "start_time": "2025-02-15T07:59:15.508186",
     "status": "completed"
    },
    "tags": []
   },
   "source": [
    "# Simulate 5 clients by splitting the data"
   ]
  },
  {
   "cell_type": "code",
   "execution_count": 31,
   "id": "be5a42a0",
   "metadata": {
    "execution": {
     "iopub.execute_input": "2025-02-15T07:59:15.545868Z",
     "iopub.status.busy": "2025-02-15T07:59:15.545624Z",
     "iopub.status.idle": "2025-02-15T07:59:15.553972Z",
     "shell.execute_reply": "2025-02-15T07:59:15.552908Z"
    },
    "papermill": {
     "duration": 0.022721,
     "end_time": "2025-02-15T07:59:15.555317",
     "exception": false,
     "start_time": "2025-02-15T07:59:15.532596",
     "status": "completed"
    },
    "tags": []
   },
   "outputs": [
    {
     "name": "stderr",
     "output_type": "stream",
     "text": [
      "/usr/local/lib/python3.10/dist-packages/numpy/core/fromnumeric.py:59: FutureWarning: 'DataFrame.swapaxes' is deprecated and will be removed in a future version. Please use 'DataFrame.transpose' instead.\n",
      "  return bound(*args, **kwds)\n"
     ]
    }
   ],
   "source": [
    "clients_data = np.array_split(pd.concat([X_train_fed, y_train_fed], axis=1), 5)"
   ]
  },
  {
   "cell_type": "markdown",
   "id": "88215412",
   "metadata": {
    "papermill": {
     "duration": 0.01218,
     "end_time": "2025-02-15T07:59:15.580284",
     "exception": false,
     "start_time": "2025-02-15T07:59:15.568104",
     "status": "completed"
    },
    "tags": []
   },
   "source": [
    "# ANN Model Definition"
   ]
  },
  {
   "cell_type": "code",
   "execution_count": 32,
   "id": "c34dc21a",
   "metadata": {
    "execution": {
     "iopub.execute_input": "2025-02-15T07:59:15.606104Z",
     "iopub.status.busy": "2025-02-15T07:59:15.605894Z",
     "iopub.status.idle": "2025-02-15T07:59:15.609326Z",
     "shell.execute_reply": "2025-02-15T07:59:15.608784Z"
    },
    "papermill": {
     "duration": 0.017701,
     "end_time": "2025-02-15T07:59:15.610507",
     "exception": false,
     "start_time": "2025-02-15T07:59:15.592806",
     "status": "completed"
    },
    "tags": []
   },
   "outputs": [],
   "source": [
    "def ann_model(input_dim):\n",
    "    model = Sequential([\n",
    "        Dense(64, activation='relu', input_shape=(input_dim,)),\n",
    "        Dense(32, activation='relu'),\n",
    "        Dense(1)\n",
    "    ])\n",
    "    model.compile(optimizer='adam', loss='mse')\n",
    "    return model"
   ]
  },
  {
   "cell_type": "markdown",
   "id": "651e59a2",
   "metadata": {
    "papermill": {
     "duration": 0.012101,
     "end_time": "2025-02-15T07:59:15.635144",
     "exception": false,
     "start_time": "2025-02-15T07:59:15.623043",
     "status": "completed"
    },
    "tags": []
   },
   "source": [
    "# Hyperparameter tuning function"
   ]
  },
  {
   "cell_type": "code",
   "execution_count": 33,
   "id": "4396b787",
   "metadata": {
    "execution": {
     "iopub.execute_input": "2025-02-15T07:59:15.660387Z",
     "iopub.status.busy": "2025-02-15T07:59:15.660156Z",
     "iopub.status.idle": "2025-02-15T07:59:15.663420Z",
     "shell.execute_reply": "2025-02-15T07:59:15.662817Z"
    },
    "papermill": {
     "duration": 0.017294,
     "end_time": "2025-02-15T07:59:15.664635",
     "exception": false,
     "start_time": "2025-02-15T07:59:15.647341",
     "status": "completed"
    },
    "tags": []
   },
   "outputs": [],
   "source": [
    "def tune_model(model, param_grid, X_train, y_train):\n",
    "    grid_search = GridSearchCV(model, param_grid, cv=3, scoring='neg_mean_squared_error', n_jobs=-1)\n",
    "    grid_search.fit(X_train, y_train)\n",
    "    return grid_search.best_estimator_"
   ]
  },
  {
   "cell_type": "markdown",
   "id": "4529fa6e",
   "metadata": {
    "papermill": {
     "duration": 0.012083,
     "end_time": "2025-02-15T07:59:15.689013",
     "exception": false,
     "start_time": "2025-02-15T07:59:15.676930",
     "status": "completed"
    },
    "tags": []
   },
   "source": [
    "# Model Initialization"
   ]
  },
  {
   "cell_type": "code",
   "execution_count": 34,
   "id": "bd98fa07",
   "metadata": {
    "execution": {
     "iopub.execute_input": "2025-02-15T07:59:15.714238Z",
     "iopub.status.busy": "2025-02-15T07:59:15.714032Z",
     "iopub.status.idle": "2025-02-15T07:59:15.718090Z",
     "shell.execute_reply": "2025-02-15T07:59:15.717458Z"
    },
    "papermill": {
     "duration": 0.018026,
     "end_time": "2025-02-15T07:59:15.719249",
     "exception": false,
     "start_time": "2025-02-15T07:59:15.701223",
     "status": "completed"
    },
    "tags": []
   },
   "outputs": [],
   "source": [
    "def model_fn(input_dim):\n",
    "    rf = RandomForestRegressor()\n",
    "    xgb = XGBRegressor()\n",
    "    \n",
    "    # Hyperparameter tuning\n",
    "    rf_param_grid = {'n_estimators': [50, 100], 'max_depth': [5, 10, None], 'min_samples_split': [2, 5]}\n",
    "    xgb_param_grid = {'n_estimators': [50, 100], 'learning_rate': [0.01, 0.1], 'max_depth': [3, 6]}\n",
    "\n",
    "    rf_tuned = tune_model(rf, rf_param_grid, X_train_fed, y_train_fed)\n",
    "    xgb_tuned = tune_model(xgb, xgb_param_grid, X_train_fed, y_train_fed)\n",
    "    \n",
    "    ann = ann_model(input_dim)\n",
    "    \n",
    "    return rf_tuned, xgb_tuned, ann"
   ]
  },
  {
   "cell_type": "markdown",
   "id": "c51eb443",
   "metadata": {
    "papermill": {
     "duration": 0.012155,
     "end_time": "2025-02-15T07:59:15.743593",
     "exception": false,
     "start_time": "2025-02-15T07:59:15.731438",
     "status": "completed"
    },
    "tags": []
   },
   "source": [
    "# Federated Training Function"
   ]
  },
  {
   "cell_type": "code",
   "execution_count": 35,
   "id": "14f5c657",
   "metadata": {
    "execution": {
     "iopub.execute_input": "2025-02-15T07:59:15.769115Z",
     "iopub.status.busy": "2025-02-15T07:59:15.768912Z",
     "iopub.status.idle": "2025-02-15T07:59:15.773401Z",
     "shell.execute_reply": "2025-02-15T07:59:15.772812Z"
    },
    "papermill": {
     "duration": 0.01845,
     "end_time": "2025-02-15T07:59:15.774446",
     "exception": false,
     "start_time": "2025-02-15T07:59:15.755996",
     "status": "completed"
    },
    "tags": []
   },
   "outputs": [],
   "source": [
    "def federated_training(model_fn, clients_data, epochs=5):\n",
    "    input_dim = clients_data[0].shape[1] - 1\n",
    "    rf_models, xgb_models, ann_models = [], [], []\n",
    "\n",
    "    for client_data in clients_data:\n",
    "        X_client = client_data.iloc[:, :-1]\n",
    "        y_client = client_data.iloc[:, -1]\n",
    "        \n",
    "        rf, xgb, ann = model_fn(input_dim)\n",
    "\n",
    "        rf.fit(X_client, y_client)\n",
    "        xgb.fit(X_client, y_client)\n",
    "        ann.fit(X_client, y_client, epochs=epochs, batch_size=10, verbose=0)\n",
    "\n",
    "        rf_models.append(rf)\n",
    "        xgb_models.append(xgb)\n",
    "        ann_models.append(ann)\n",
    "\n",
    "    return rf_models, xgb_models, ann_models"
   ]
  },
  {
   "cell_type": "markdown",
   "id": "8097919e",
   "metadata": {
    "papermill": {
     "duration": 0.012164,
     "end_time": "2025-02-15T07:59:15.798872",
     "exception": false,
     "start_time": "2025-02-15T07:59:15.786708",
     "status": "completed"
    },
    "tags": []
   },
   "source": [
    "# Federated Averaging (FedAvg)"
   ]
  },
  {
   "cell_type": "code",
   "execution_count": 36,
   "id": "8abb6d67",
   "metadata": {
    "execution": {
     "iopub.execute_input": "2025-02-15T07:59:15.824279Z",
     "iopub.status.busy": "2025-02-15T07:59:15.824077Z",
     "iopub.status.idle": "2025-02-15T07:59:15.829869Z",
     "shell.execute_reply": "2025-02-15T07:59:15.829220Z"
    },
    "papermill": {
     "duration": 0.019854,
     "end_time": "2025-02-15T07:59:15.831036",
     "exception": false,
     "start_time": "2025-02-15T07:59:15.811182",
     "status": "completed"
    },
    "tags": []
   },
   "outputs": [],
   "source": [
    "def federated_average(rf_models, xgb_models, ann_models):\n",
    "    avg_rf = RandomForestRegressor(\n",
    "        n_estimators=int(np.mean([m.n_estimators for m in rf_models])),\n",
    "        max_depth=int(np.mean([m.max_depth if m.max_depth else 10 for m in rf_models])),\n",
    "        min_samples_split=int(np.mean([m.min_samples_split for m in rf_models]))\n",
    "    )\n",
    "    avg_rf.fit(X_train_fed, y_train_fed)\n",
    "\n",
    "    avg_xgb = XGBRegressor(\n",
    "        n_estimators=int(np.mean([m.n_estimators for m in xgb_models])),\n",
    "        learning_rate=np.mean([m.learning_rate for m in xgb_models]),\n",
    "        max_depth=int(np.mean([m.max_depth for m in xgb_models]))\n",
    "    )\n",
    "    avg_xgb.fit(X_train_fed, y_train_fed)\n",
    "\n",
    "    # ANN Weight Averaging (Fix applied)\n",
    "    avg_ann = ann_model(X_train_fed.shape[1])\n",
    "\n",
    "    # Ensure all models have the same architecture\n",
    "    layer_weights = [model.get_weights() for model in ann_models]\n",
    "\n",
    "    # Check if any model is uninitialized\n",
    "    for i, weights in enumerate(layer_weights):\n",
    "        if not weights:\n",
    "            print(f\"Warning: ANN Model {i} has uninitialized weights!\")\n",
    "\n",
    "    # Compute layer-wise average\n",
    "    avg_weights = [np.mean([layer[i] for layer in layer_weights], axis=0) for i in range(len(layer_weights[0]))]\n",
    "\n",
    "    # Set averaged weights\n",
    "    avg_ann.set_weights(avg_weights)\n",
    "\n",
    "    return avg_rf, avg_xgb, avg_ann"
   ]
  },
  {
   "cell_type": "markdown",
   "id": "8d655a99",
   "metadata": {
    "papermill": {
     "duration": 0.012008,
     "end_time": "2025-02-15T07:59:15.855332",
     "exception": false,
     "start_time": "2025-02-15T07:59:15.843324",
     "status": "completed"
    },
    "tags": []
   },
   "source": [
    "# Train Federated Models"
   ]
  },
  {
   "cell_type": "code",
   "execution_count": 37,
   "id": "5f6c4f47",
   "metadata": {
    "execution": {
     "iopub.execute_input": "2025-02-15T07:59:15.880668Z",
     "iopub.status.busy": "2025-02-15T07:59:15.880464Z",
     "iopub.status.idle": "2025-02-15T08:02:12.613693Z",
     "shell.execute_reply": "2025-02-15T08:02:12.612580Z"
    },
    "papermill": {
     "duration": 176.747884,
     "end_time": "2025-02-15T08:02:12.615362",
     "exception": false,
     "start_time": "2025-02-15T07:59:15.867478",
     "status": "completed"
    },
    "tags": []
   },
   "outputs": [
    {
     "name": "stderr",
     "output_type": "stream",
     "text": [
      "/usr/local/lib/python3.10/dist-packages/keras/src/layers/core/dense.py:87: UserWarning: Do not pass an `input_shape`/`input_dim` argument to a layer. When using Sequential models, prefer using an `Input(shape)` object as the first layer in the model instead.\n",
      "  super().__init__(activity_regularizer=activity_regularizer, **kwargs)\n",
      "/usr/local/lib/python3.10/dist-packages/keras/src/layers/core/dense.py:87: UserWarning: Do not pass an `input_shape`/`input_dim` argument to a layer. When using Sequential models, prefer using an `Input(shape)` object as the first layer in the model instead.\n",
      "  super().__init__(activity_regularizer=activity_regularizer, **kwargs)\n",
      "/usr/local/lib/python3.10/dist-packages/keras/src/layers/core/dense.py:87: UserWarning: Do not pass an `input_shape`/`input_dim` argument to a layer. When using Sequential models, prefer using an `Input(shape)` object as the first layer in the model instead.\n",
      "  super().__init__(activity_regularizer=activity_regularizer, **kwargs)\n",
      "/usr/local/lib/python3.10/dist-packages/keras/src/layers/core/dense.py:87: UserWarning: Do not pass an `input_shape`/`input_dim` argument to a layer. When using Sequential models, prefer using an `Input(shape)` object as the first layer in the model instead.\n",
      "  super().__init__(activity_regularizer=activity_regularizer, **kwargs)\n",
      "/usr/local/lib/python3.10/dist-packages/keras/src/layers/core/dense.py:87: UserWarning: Do not pass an `input_shape`/`input_dim` argument to a layer. When using Sequential models, prefer using an `Input(shape)` object as the first layer in the model instead.\n",
      "  super().__init__(activity_regularizer=activity_regularizer, **kwargs)\n",
      "/usr/local/lib/python3.10/dist-packages/keras/src/layers/core/dense.py:87: UserWarning: Do not pass an `input_shape`/`input_dim` argument to a layer. When using Sequential models, prefer using an `Input(shape)` object as the first layer in the model instead.\n",
      "  super().__init__(activity_regularizer=activity_regularizer, **kwargs)\n"
     ]
    }
   ],
   "source": [
    "rf_models, xgb_models, ann_models = federated_training(model_fn, clients_data, epochs=5)\n",
    "final_rf, final_xgb, final_ann = federated_average(rf_models, xgb_models, ann_models)"
   ]
  },
  {
   "cell_type": "markdown",
   "id": "29a7592e",
   "metadata": {
    "papermill": {
     "duration": 0.012881,
     "end_time": "2025-02-15T08:02:12.641703",
     "exception": false,
     "start_time": "2025-02-15T08:02:12.628822",
     "status": "completed"
    },
    "tags": []
   },
   "source": [
    "# Meta-Model for Stacking (Using Validation Data)"
   ]
  },
  {
   "cell_type": "code",
   "execution_count": 38,
   "id": "b5854697",
   "metadata": {
    "execution": {
     "iopub.execute_input": "2025-02-15T08:02:12.668535Z",
     "iopub.status.busy": "2025-02-15T08:02:12.668220Z",
     "iopub.status.idle": "2025-02-15T08:02:12.672525Z",
     "shell.execute_reply": "2025-02-15T08:02:12.671913Z"
    },
    "papermill": {
     "duration": 0.01951,
     "end_time": "2025-02-15T08:02:12.673910",
     "exception": false,
     "start_time": "2025-02-15T08:02:12.654400",
     "status": "completed"
    },
    "tags": []
   },
   "outputs": [],
   "source": [
    "def meta_model_training(final_rf, final_xgb, final_ann, X_val, y_val):\n",
    "    rf_preds = final_rf.predict(X_val)\n",
    "    xgb_preds = final_xgb.predict(X_val)\n",
    "    ann_preds = final_ann.predict(X_val).flatten()\n",
    "\n",
    "    combined_preds = np.stack([rf_preds, xgb_preds, ann_preds], axis=1)\n",
    "\n",
    "    meta_model = LinearRegression()\n",
    "    meta_model.fit(combined_preds, y_val)\n",
    "    \n",
    "    return meta_model"
   ]
  },
  {
   "cell_type": "code",
   "execution_count": 39,
   "id": "7359f213",
   "metadata": {
    "execution": {
     "iopub.execute_input": "2025-02-15T08:02:12.700107Z",
     "iopub.status.busy": "2025-02-15T08:02:12.699865Z",
     "iopub.status.idle": "2025-02-15T08:02:13.336166Z",
     "shell.execute_reply": "2025-02-15T08:02:13.335396Z"
    },
    "papermill": {
     "duration": 0.650997,
     "end_time": "2025-02-15T08:02:13.337598",
     "exception": false,
     "start_time": "2025-02-15T08:02:12.686601",
     "status": "completed"
    },
    "tags": []
   },
   "outputs": [
    {
     "name": "stdout",
     "output_type": "stream",
     "text": [
      "\u001b[1m81/81\u001b[0m \u001b[32m━━━━━━━━━━━━━━━━━━━━\u001b[0m\u001b[37m\u001b[0m \u001b[1m0s\u001b[0m 3ms/step\n"
     ]
    }
   ],
   "source": [
    "meta_model = meta_model_training(final_rf, final_xgb, final_ann, X_val, y_val)"
   ]
  },
  {
   "cell_type": "markdown",
   "id": "e795a4a2",
   "metadata": {
    "papermill": {
     "duration": 0.013027,
     "end_time": "2025-02-15T08:02:13.364560",
     "exception": false,
     "start_time": "2025-02-15T08:02:13.351533",
     "status": "completed"
    },
    "tags": []
   },
   "source": [
    "# Final Predictions on Test Set"
   ]
  },
  {
   "cell_type": "code",
   "execution_count": 40,
   "id": "c8147095",
   "metadata": {
    "execution": {
     "iopub.execute_input": "2025-02-15T08:02:13.391762Z",
     "iopub.status.busy": "2025-02-15T08:02:13.391493Z",
     "iopub.status.idle": "2025-02-15T08:02:13.395321Z",
     "shell.execute_reply": "2025-02-15T08:02:13.394676Z"
    },
    "papermill": {
     "duration": 0.01855,
     "end_time": "2025-02-15T08:02:13.396435",
     "exception": false,
     "start_time": "2025-02-15T08:02:13.377885",
     "status": "completed"
    },
    "tags": []
   },
   "outputs": [],
   "source": [
    "def final_predictions(final_rf, final_xgb, final_ann, meta_model, X_test):\n",
    "    rf_preds = final_rf.predict(X_test)\n",
    "    xgb_preds = final_xgb.predict(X_test)\n",
    "    ann_preds = final_ann.predict(X_test).flatten()\n",
    "\n",
    "    combined_preds = np.stack([rf_preds, xgb_preds, ann_preds], axis=1)\n",
    "\n",
    "    return meta_model.predict(combined_preds)"
   ]
  },
  {
   "cell_type": "code",
   "execution_count": 41,
   "id": "c882a7b8",
   "metadata": {
    "execution": {
     "iopub.execute_input": "2025-02-15T08:02:13.423679Z",
     "iopub.status.busy": "2025-02-15T08:02:13.423470Z",
     "iopub.status.idle": "2025-02-15T08:02:13.663473Z",
     "shell.execute_reply": "2025-02-15T08:02:13.662660Z"
    },
    "papermill": {
     "duration": 0.25503,
     "end_time": "2025-02-15T08:02:13.664922",
     "exception": false,
     "start_time": "2025-02-15T08:02:13.409892",
     "status": "completed"
    },
    "tags": []
   },
   "outputs": [
    {
     "name": "stdout",
     "output_type": "stream",
     "text": [
      "\u001b[1m101/101\u001b[0m \u001b[32m━━━━━━━━━━━━━━━━━━━━\u001b[0m\u001b[37m\u001b[0m \u001b[1m0s\u001b[0m 1ms/step\n"
     ]
    }
   ],
   "source": [
    "final_preds = final_predictions(final_rf, final_xgb, final_ann, meta_model, X_test)"
   ]
  },
  {
   "cell_type": "markdown",
   "id": "326b52ee",
   "metadata": {
    "papermill": {
     "duration": 0.013123,
     "end_time": "2025-02-15T08:02:13.692015",
     "exception": false,
     "start_time": "2025-02-15T08:02:13.678892",
     "status": "completed"
    },
    "tags": []
   },
   "source": [
    "# Model Evaluation"
   ]
  },
  {
   "cell_type": "code",
   "execution_count": 42,
   "id": "f0d483cf",
   "metadata": {
    "execution": {
     "iopub.execute_input": "2025-02-15T08:02:13.719476Z",
     "iopub.status.busy": "2025-02-15T08:02:13.719217Z",
     "iopub.status.idle": "2025-02-15T08:02:13.726027Z",
     "shell.execute_reply": "2025-02-15T08:02:13.725123Z"
    },
    "papermill": {
     "duration": 0.021997,
     "end_time": "2025-02-15T08:02:13.727251",
     "exception": false,
     "start_time": "2025-02-15T08:02:13.705254",
     "status": "completed"
    },
    "tags": []
   },
   "outputs": [
    {
     "name": "stdout",
     "output_type": "stream",
     "text": [
      "MAE: 16.187636893681\n",
      "RMSE: 27.35944620858834\n",
      "R² Score: 0.9312298100002627\n"
     ]
    }
   ],
   "source": [
    "print(\"MAE:\", mean_absolute_error(y_test, final_preds))\n",
    "print(\"RMSE:\", np.sqrt(mean_squared_error(y_test, final_preds)))\n",
    "print(\"R² Score:\", r2_score(y_test, final_preds))"
   ]
  },
  {
   "cell_type": "code",
   "execution_count": null,
   "id": "cc65ed7a",
   "metadata": {
    "papermill": {
     "duration": 0.01334,
     "end_time": "2025-02-15T08:02:13.754020",
     "exception": false,
     "start_time": "2025-02-15T08:02:13.740680",
     "status": "completed"
    },
    "tags": []
   },
   "outputs": [],
   "source": []
  }
 ],
 "metadata": {
  "kaggle": {
   "accelerator": "gpu",
   "dataSources": [
    {
     "datasetId": 6644472,
     "sourceId": 10719350,
     "sourceType": "datasetVersion"
    }
   ],
   "dockerImageVersionId": 30887,
   "isGpuEnabled": true,
   "isInternetEnabled": true,
   "language": "python",
   "sourceType": "notebook"
  },
  "kernelspec": {
   "display_name": "Python 3",
   "language": "python",
   "name": "python3"
  },
  "language_info": {
   "codemirror_mode": {
    "name": "ipython",
    "version": 3
   },
   "file_extension": ".py",
   "mimetype": "text/x-python",
   "name": "python",
   "nbconvert_exporter": "python",
   "pygments_lexer": "ipython3",
   "version": "3.10.12"
  },
  "papermill": {
   "default_parameters": {},
   "duration": 199.905919,
   "end_time": "2025-02-15T08:02:16.643425",
   "environment_variables": {},
   "exception": null,
   "input_path": "__notebook__.ipynb",
   "output_path": "__notebook__.ipynb",
   "parameters": {},
   "start_time": "2025-02-15T07:58:56.737506",
   "version": "2.6.0"
  }
 },
 "nbformat": 4,
 "nbformat_minor": 5
}
